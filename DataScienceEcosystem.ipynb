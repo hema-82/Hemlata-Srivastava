{
 "cells": [
  {
   "cell_type": "markdown",
   "id": "431b1aba-b358-4285-a70c-7bd0c9e41cf2",
   "metadata": {},
   "source": [
    "Below are a few examples of evaluating arithmetic expressions in Python"
   ]
  },
  {
   "cell_type": "code",
   "execution_count": 1,
   "id": "0bb4655f-6a03-4ea1-a459-ec17b8d678b3",
   "metadata": {},
   "outputs": [
    {
     "data": {
      "text/plain": [
       "17"
      ]
     },
     "execution_count": 1,
     "metadata": {},
     "output_type": "execute_result"
    }
   ],
   "source": [
    "(3*4)+5"
   ]
  },
  {
   "cell_type": "code",
   "execution_count": 3,
   "id": "76468186-5515-4f00-8778-a792deac8895",
   "metadata": {},
   "outputs": [
    {
     "ename": "SyntaxError",
     "evalue": "invalid syntax (2605968071.py, line 1)",
     "output_type": "error",
     "traceback": [
      "\u001b[0;36m  Cell \u001b[0;32mIn[3], line 1\u001b[0;36m\u001b[0m\n\u001b[0;31m    200 minutes in hours\u001b[0m\n\u001b[0m        ^\u001b[0m\n\u001b[0;31mSyntaxError\u001b[0m\u001b[0;31m:\u001b[0m invalid syntax\n"
     ]
    }
   ],
   "source": [
    "200 minutes in hours"
   ]
  },
  {
   "cell_type": "code",
   "execution_count": 4,
   "id": "3bf170d7-708a-49bc-aac3-d8b2a46a7ff9",
   "metadata": {},
   "outputs": [
    {
     "ename": "SyntaxError",
     "evalue": "invalid syntax (2486757609.py, line 1)",
     "output_type": "error",
     "traceback": [
      "\u001b[0;36m  Cell \u001b[0;32mIn[4], line 1\u001b[0;36m\u001b[0m\n\u001b[0;31m    This will convert 200 minutes to hours by diving by 60\u001b[0m\n\u001b[0m         ^\u001b[0m\n\u001b[0;31mSyntaxError\u001b[0m\u001b[0;31m:\u001b[0m invalid syntax\n"
     ]
    }
   ],
   "source": [
    "This will convert 200 minutes to hours by diving by 60"
   ]
  },
  {
   "cell_type": "code",
   "execution_count": 5,
   "id": "3dec51ea-cd8a-4b09-963e-f1832d980511",
   "metadata": {},
   "outputs": [
    {
     "ename": "SyntaxError",
     "evalue": "invalid syntax (615725740.py, line 1)",
     "output_type": "error",
     "traceback": [
      "\u001b[0;36m  Cell \u001b[0;32mIn[5], line 1\u001b[0;36m\u001b[0m\n\u001b[0;31m    This will convert 200 minutes to hours by diving by 60\u001b[0m\n\u001b[0m         ^\u001b[0m\n\u001b[0;31mSyntaxError\u001b[0m\u001b[0;31m:\u001b[0m invalid syntax\n"
     ]
    }
   ],
   "source": [
    "This will convert 200 minutes to hours by diving by 60\n",
    "200 minutes into hours"
   ]
  },
  {
   "cell_type": "code",
   "execution_count": 6,
   "id": "3e04efbf-46c6-4403-bb8a-3053b0309074",
   "metadata": {},
   "outputs": [
    {
     "ename": "SyntaxError",
     "evalue": "invalid decimal literal (1084358240.py, line 2)",
     "output_type": "error",
     "traceback": [
      "\u001b[0;36m  Cell \u001b[0;32mIn[6], line 2\u001b[0;36m\u001b[0m\n\u001b[0;31m    200minutes in hours\u001b[0m\n\u001b[0m      ^\u001b[0m\n\u001b[0;31mSyntaxError\u001b[0m\u001b[0;31m:\u001b[0m invalid decimal literal\n"
     ]
    }
   ],
   "source": [
    "This will convert 200 minutes to hours by diving by 60 \n",
    "200minutes in hours"
   ]
  },
  {
   "cell_type": "code",
   "execution_count": 7,
   "id": "b36adeff-8c3e-4fbd-8801-b3f113fbf8e8",
   "metadata": {},
   "outputs": [
    {
     "ename": "SyntaxError",
     "evalue": "invalid syntax (244759839.py, line 1)",
     "output_type": "error",
     "traceback": [
      "\u001b[0;36m  Cell \u001b[0;32mIn[7], line 1\u001b[0;36m\u001b[0m\n\u001b[0;31m    This will convert 200 minutes to hours by diving by 60\u001b[0m\n\u001b[0m         ^\u001b[0m\n\u001b[0;31mSyntaxError\u001b[0m\u001b[0;31m:\u001b[0m invalid syntax\n"
     ]
    }
   ],
   "source": [
    "This will convert 200 minutes to hours by diving by 60 \n",
    "200 minutes in hours"
   ]
  },
  {
   "cell_type": "code",
   "execution_count": 8,
   "id": "5364ead4-94a8-49c9-84ae-fa4ba7b04fc5",
   "metadata": {},
   "outputs": [
    {
     "ename": "SyntaxError",
     "evalue": "invalid syntax (3077394687.py, line 1)",
     "output_type": "error",
     "traceback": [
      "\u001b[0;36m  Cell \u001b[0;32mIn[8], line 1\u001b[0;36m\u001b[0m\n\u001b[0;31m    This will convert 200 minutes to hours by diving by 60\u001b[0m\n\u001b[0m         ^\u001b[0m\n\u001b[0;31mSyntaxError\u001b[0m\u001b[0;31m:\u001b[0m invalid syntax\n"
     ]
    }
   ],
   "source": [
    "This will convert 200 minutes to hours by diving by 60 "
   ]
  },
  {
   "cell_type": "code",
   "execution_count": 9,
   "id": "56044d79-e98a-4b5e-ae43-2f594b703a77",
   "metadata": {},
   "outputs": [
    {
     "ename": "SyntaxError",
     "evalue": "invalid syntax (954935268.py, line 1)",
     "output_type": "error",
     "traceback": [
      "\u001b[0;36m  Cell \u001b[0;32mIn[9], line 1\u001b[0;36m\u001b[0m\n\u001b[0;31m    This will convert 200 minutes to hours by diving by 60 200 minutes in hours\u001b[0m\n\u001b[0m         ^\u001b[0m\n\u001b[0;31mSyntaxError\u001b[0m\u001b[0;31m:\u001b[0m invalid syntax\n"
     ]
    }
   ],
   "source": [
    "This will convert 200 minutes to hours by diving by 60 200 minutes in hours"
   ]
  },
  {
   "cell_type": "code",
   "execution_count": 10,
   "id": "b05ab31a-1947-4ea0-a8b7-ac38b0e84f9f",
   "metadata": {},
   "outputs": [
    {
     "ename": "SyntaxError",
     "evalue": "invalid syntax (814394524.py, line 1)",
     "output_type": "error",
     "traceback": [
      "\u001b[0;36m  Cell \u001b[0;32mIn[10], line 1\u001b[0;36m\u001b[0m\n\u001b[0;31m    200 minutes into hours\u001b[0m\n\u001b[0m        ^\u001b[0m\n\u001b[0;31mSyntaxError\u001b[0m\u001b[0;31m:\u001b[0m invalid syntax\n"
     ]
    }
   ],
   "source": [
    "200 minutes into hours"
   ]
  },
  {
   "cell_type": "code",
   "execution_count": 11,
   "id": "81f421e2-83da-44be-96f5-21e606f642d6",
   "metadata": {},
   "outputs": [
    {
     "ename": "SyntaxError",
     "evalue": "invalid syntax (138983271.py, line 1)",
     "output_type": "error",
     "traceback": [
      "\u001b[0;36m  Cell \u001b[0;32mIn[11], line 1\u001b[0;36m\u001b[0m\n\u001b[0;31m    This will convert 200 minutes to hours by diving by 60\u001b[0m\n\u001b[0m         ^\u001b[0m\n\u001b[0;31mSyntaxError\u001b[0m\u001b[0;31m:\u001b[0m invalid syntax\n"
     ]
    }
   ],
   "source": [
    "This will convert 200 minutes to hours by diving by 60\n",
    "200/600"
   ]
  },
  {
   "cell_type": "code",
   "execution_count": 12,
   "id": "ecc16113-89fe-41cb-b52e-595e38c2dceb",
   "metadata": {},
   "outputs": [
    {
     "ename": "SyntaxError",
     "evalue": "invalid syntax (1631946044.py, line 1)",
     "output_type": "error",
     "traceback": [
      "\u001b[0;36m  Cell \u001b[0;32mIn[12], line 1\u001b[0;36m\u001b[0m\n\u001b[0;31m    This will convert 200 minutes to hours by diving by 60\u001b[0m\n\u001b[0m         ^\u001b[0m\n\u001b[0;31mSyntaxError\u001b[0m\u001b[0;31m:\u001b[0m invalid syntax\n"
     ]
    }
   ],
   "source": [
    "This will convert 200 minutes to hours by diving by 60\n",
    "200/60"
   ]
  },
  {
   "cell_type": "code",
   "execution_count": 13,
   "id": "3ecec5c2-1060-49b1-a725-21ffd8a8f9c2",
   "metadata": {},
   "outputs": [
    {
     "data": {
      "text/plain": [
       "3.3333333333333335"
      ]
     },
     "execution_count": 13,
     "metadata": {},
     "output_type": "execute_result"
    }
   ],
   "source": [
    "200/60"
   ]
  },
  {
   "cell_type": "markdown",
   "id": "fbd25c50-55f5-40ea-87dd-0dbca4c83b52",
   "metadata": {},
   "source": [
    "This will convert 200 minutes to hours by diving by 60"
   ]
  },
  {
   "cell_type": "code",
   "execution_count": 1,
   "id": "c3df656e-f6fd-4df8-9f23-5cb2c5db71b6",
   "metadata": {},
   "outputs": [
    {
     "data": {
      "text/plain": [
       "3.3333333333333335"
      ]
     },
     "execution_count": 1,
     "metadata": {},
     "output_type": "execute_result"
    }
   ],
   "source": [
    "200/60"
   ]
  },
  {
   "cell_type": "markdown",
   "id": "dac6f522-233e-4629-9608-f55ddc82bb41",
   "metadata": {},
   "source": [
    "Objectives:"
   ]
  },
  {
   "cell_type": "markdown",
   "id": "92574db5-e397-4753-90bf-2c71f776c3b5",
   "metadata": {},
   "source": [
    "unordered list "
   ]
  },
  {
   "cell_type": "markdown",
   "id": "b722e4e7-c8b1-490e-8a9f-63e706ee327f",
   "metadata": {},
   "source": [
    "List popular languages for Data Science\n"
   ]
  },
  {
   "cell_type": "markdown",
   "id": "2b952387-077b-4af7-bda8-d0660240e21d",
   "metadata": {},
   "source": [
    "List popular libraries for data science\n"
   ]
  },
  {
   "cell_type": "markdown",
   "id": "d67fb8f1-3f96-4e52-8785-e0288c5ad652",
   "metadata": {},
   "source": [
    "list of arithmetic expression\n"
   ]
  },
  {
   "cell_type": "markdown",
   "id": "1dd1eaa1-7659-44b4-82f3-5da4cb19f775",
   "metadata": {},
   "source": [
    "list of conversions"
   ]
  },
  {
   "cell_type": "markdown",
   "id": "46fd0419-3654-4919-bdfa-3df3aae512f3",
   "metadata": {},
   "source": [
    "Author"
   ]
  },
  {
   "cell_type": "markdown",
   "id": "3cbfa599-0247-4cf6-8354-5ea46f71914d",
   "metadata": {},
   "source": [
    "Hemlata Srivastava"
   ]
  },
  {
   "cell_type": "markdown",
   "id": "808bbe96-0fe0-4328-bfdc-4d41a3802bc8",
   "metadata": {},
   "source": []
  }
 ],
 "metadata": {
  "kernelspec": {
   "display_name": "Python 3 (ipykernel)",
   "language": "python",
   "name": "python3"
  },
  "language_info": {
   "codemirror_mode": {
    "name": "ipython",
    "version": 3
   },
   "file_extension": ".py",
   "mimetype": "text/x-python",
   "name": "python",
   "nbconvert_exporter": "python",
   "pygments_lexer": "ipython3",
   "version": "3.11.9"
  }
 },
 "nbformat": 4,
 "nbformat_minor": 5
}
